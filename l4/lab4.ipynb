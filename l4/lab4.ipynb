{
 "cells": [
  {
   "cell_type": "code",
   "execution_count": 2,
   "metadata": {},
   "outputs": [],
   "source": [
    "from pyspark.sql import SparkSession\n",
    "import pyspark.sql.functions as F\n",
    "from pyspark.sql.functions import col"
   ]
  },
  {
   "cell_type": "code",
   "execution_count": 3,
   "metadata": {},
   "outputs": [],
   "source": [
    "spark = (\n",
    "    SparkSession.builder\n",
    "                .appName(\"Stack Overflow Data Wrangling2\")\n",
    "                .config(\"spark.jars\", \"/home/pry/codes/blossom/jars/postgresql-42.2.8.jar\") \n",
    "                .getOrCreate()\n",
    ")"
   ]
  },
  {
   "cell_type": "code",
   "execution_count": 4,
   "metadata": {},
   "outputs": [],
   "source": [
    "# pg_url = 'jdbc:postgresql://PG_SERVER_IP/db_name?user=PG_USER&password=PASSWORD'\n",
    "# pg_url = 'jdbc:postgresql://localhost:5432/stackoverflow?user=postgres&password=postgres',\n",
    "pg_url = 'jdbc:postgresql://localhost:5432/postgres'\n",
    "\n",
    "pg_properties = {\n",
    "    \"driver\": \"org.postgresql.Driver\",\n",
    "    \"schema\": \"stackoverflow\",\n",
    "    \"user\": \"postgres\",\n",
    "    \"password\": \"postgres\"\n",
    "}"
   ]
  },
  {
   "cell_type": "code",
   "execution_count": 5,
   "metadata": {},
   "outputs": [],
   "source": [
    "df_qtns = spark.read.jdbc(url=pg_url,table='stackoverflow.questions',properties=pg_properties)\n",
    "df_qtns = df_qtns.withColumnRenamed('id', 'qtn_id') \n",
    "# df_qtns.head()"
   ]
  },
  {
   "cell_type": "code",
   "execution_count": 6,
   "metadata": {},
   "outputs": [],
   "source": [
    "df_ans = spark.read.jdbc(url=pg_url,table='stackoverflow.answers',properties=pg_properties)\n",
    "# df_qtns.head()"
   ]
  },
  {
   "cell_type": "code",
   "execution_count": 7,
   "metadata": {},
   "outputs": [],
   "source": [
    "df_users = spark.read.jdbc(url=pg_url,table='stackoverflow.users',properties=pg_properties)"
   ]
  },
  {
   "cell_type": "code",
   "execution_count": 40,
   "metadata": {},
   "outputs": [
    {
     "data": {
      "text/plain": [
       "['userz_id',\n",
       " 'display_name',\n",
       " 'reputation',\n",
       " 'website_url',\n",
       " 'location',\n",
       " 'about_me',\n",
       " 'views',\n",
       " 'up_votes',\n",
       " 'down_votes',\n",
       " 'image_url',\n",
       " 'user_created_at',\n",
       " 'updated_at']"
      ]
     },
     "execution_count": 40,
     "metadata": {},
     "output_type": "execute_result"
    }
   ],
   "source": [
    "df_users = df_users.withColumnRenamed('id', 'userz_id') \n",
    "df_users = df_users.withColumnRenamed('created_at', 'user_created_at') \n",
    "\n",
    "# dfu = df_users\n",
    "df_users.columns"
   ]
  },
  {
   "cell_type": "code",
   "execution_count": 20,
   "metadata": {},
   "outputs": [],
   "source": [
    "# df_users.select('location').distinct().show(3)"
   ]
  },
  {
   "cell_type": "markdown",
   "metadata": {},
   "source": [
    "### 1 Select users from only one country of your choosing."
   ]
  },
  {
   "cell_type": "code",
   "execution_count": 21,
   "metadata": {},
   "outputs": [],
   "source": [
    "user_loc = df_users.filter(col('location').contains('Beijing, China'))\n",
    "# user_loc.take(15)"
   ]
  },
  {
   "cell_type": "markdown",
   "metadata": {},
   "source": [
    "### 2 Extract the country and city into new columns."
   ]
  },
  {
   "cell_type": "code",
   "execution_count": 22,
   "metadata": {},
   "outputs": [],
   "source": [
    "user_loc = user_loc\\\n",
    "                .withColumn('city', F.split(user_loc['location'], ',')[0])\\\n",
    "                .withColumn('country', F.split(user_loc['location'], ',')[1])"
   ]
  },
  {
   "cell_type": "code",
   "execution_count": 23,
   "metadata": {},
   "outputs": [],
   "source": [
    "# user_loc.take(5)"
   ]
  },
  {
   "cell_type": "markdown",
   "metadata": {},
   "source": [
    "### 3 Join this with the questions\n",
    "\n",
    "    only pick questions with at least 20 view_counts."
   ]
  },
  {
   "cell_type": "code",
   "execution_count": 60,
   "metadata": {},
   "outputs": [],
   "source": [
    "# df_qtns.columns"
   ]
  },
  {
   "cell_type": "code",
   "execution_count": 57,
   "metadata": {},
   "outputs": [],
   "source": [
    "# user_loc.columns"
   ]
  },
  {
   "cell_type": "code",
   "execution_count": 54,
   "metadata": {},
   "outputs": [
    {
     "data": {
      "text/plain": [
       "Row(userz_id=1120704, display_name='Shaun Xu', reputation='3571', website_url='http://blog.shaunxu.me', location='Dongcheng, Beijing, China', about_me=\"<p>Shaun, a semi-geek, clumsy developer, passionate speaker and incapable architect with about 10 years experience in .NET. He hopes to prove that software development is art rather than manufacturing. He's into cloud computing platform and technologies (Windows Azure, Aliyun) as well as WCF and ASP.NET MVC. Recently he's falling in love with JavaScript and Node.js.\\nCurrently Shaun is working at IGT Technology Development (Beijing) Co., Ltd. as the architect responsible for product framework design and development.</p>\\n\", views=439, up_votes=27, down_votes=0, image_url='', user_created_at=datetime.datetime(2011, 12, 29, 8, 1, 22), updated_at=datetime.datetime(2019, 10, 12, 10, 33, 41), city='Dongcheng', country=' Beijing', qtn_id=55804034, user_id=1120704, title='`keyof` reported compile error when using generic type', body=\"<p>First I have a type definition map all properties into number by using <code>keyof</code></p>\\n\\n<pre><code>type Numeric&lt;T&gt; = {\\n    [K in keyof T]: number\\n}\\n</code></pre>\\n\\n<p>Below is a class I will use.</p>\\n\\n<pre><code>class Entity {\\n    aNumber: number;\\n}\\n</code></pre>\\n\\n<p>Below is a function which accept a generic type argument and a local variable with type <code>Numberic&lt;T&gt;</code>. But when I assigned <code>{ aNumber: 1 }</code> it gave a compile error.</p>\\n\\n<pre><code>const fn = &lt;T extends Entity&gt;() =&gt; {\\n    const n: Numeric&lt;T&gt; = {\\n//        ^\\n//        Type '{ aNumber: number; }' is not \\n//        assignable to type 'Numeric&lt;T&gt;'\\n        aNumber: 1\\n    };\\n};\\n</code></pre>\\n\\n<p>I don't know why <code>{ aNumber: number; }</code> cannot be assigned to <code>Numeric&lt;T&gt;</code> since the type argument <code>T</code> must be extended from <code>Entity</code> and it must contains a key named <code>aNumber</code>. This means <code>aNumber</code> must be the key of type T and should be able to assigned to <code>Numeric&lt;T&gt;</code>.</p>\\n\", accepted_answer_id=None, score=0, view_count=58, comment_count=0, created_at=datetime.datetime(2019, 4, 23, 3, 47, 44))"
      ]
     },
     "execution_count": 54,
     "metadata": {},
     "output_type": "execute_result"
    }
   ],
   "source": [
    "# join_user_qtns = user_loc.join(user_loc, df_qtns.user_id==user_loc.userz_id, how='inner')\n",
    "\n",
    "joined = user_loc.join(df_qtns, df_qtns[\"user_id\"] == user_loc[\"userz_id\"])\n",
    "joined.head()"
   ]
  },
  {
   "cell_type": "code",
   "execution_count": 55,
   "metadata": {},
   "outputs": [],
   "source": [
    "# "
   ]
  },
  {
   "cell_type": "code",
   "execution_count": null,
   "metadata": {},
   "outputs": [],
   "source": []
  },
  {
   "cell_type": "markdown",
   "metadata": {},
   "source": [
    "### 4 Join the answers to the results of (3)."
   ]
  },
  {
   "cell_type": "code",
   "execution_count": 58,
   "metadata": {},
   "outputs": [
    {
     "data": {
      "text/plain": [
       "['id',\n",
       " 'user_id',\n",
       " 'question_id',\n",
       " 'body',\n",
       " 'score',\n",
       " 'comment_count',\n",
       " 'created_at']"
      ]
     },
     "execution_count": 58,
     "metadata": {},
     "output_type": "execute_result"
    }
   ],
   "source": [
    "# df_ans.columns"
   ]
  },
  {
   "cell_type": "code",
   "execution_count": 64,
   "metadata": {},
   "outputs": [],
   "source": [
    "# df_qtns.columns"
   ]
  },
  {
   "cell_type": "code",
   "execution_count": 62,
   "metadata": {},
   "outputs": [],
   "source": [
    "df_ans = df_ans.withColumnRenamed('id', 'ans_id') \n",
    "df_ans = df_ans.withColumnRenamed('created_at', 'ans_created_at') \n",
    "df_ans = df_ans.withColumnRenamed('body', 'ans_body') \n",
    "df_ans = df_ans.withColumnRenamed('score', 'ans_score') \n",
    "df_ans = df_ans.withColumnRenamed('user_id', 'ans_user_id') \n",
    "df_ans = df_ans.withColumnRenamed('comment_count', 'ans_comment_count') "
   ]
  },
  {
   "cell_type": "code",
   "execution_count": 63,
   "metadata": {},
   "outputs": [
    {
     "data": {
      "text/plain": [
       "['ans_id',\n",
       " 'ans_user_id',\n",
       " 'question_id',\n",
       " 'ans_body',\n",
       " 'ans_score',\n",
       " 'ans_comment_count',\n",
       " 'ans_created_at']"
      ]
     },
     "execution_count": 63,
     "metadata": {},
     "output_type": "execute_result"
    }
   ],
   "source": [
    "df_ans.columns"
   ]
  },
  {
   "cell_type": "code",
   "execution_count": 69,
   "metadata": {},
   "outputs": [],
   "source": [
    "df_ans2 = df_ans.filter(df_ans.ans_user_id.isNotNull())"
   ]
  },
  {
   "cell_type": "code",
   "execution_count": 70,
   "metadata": {},
   "outputs": [],
   "source": [
    "joined_ans = joined.join(df_ans2, joined[\"userz_id\"] == df_ans2[\"ans_user_id\"])"
   ]
  },
  {
   "cell_type": "code",
   "execution_count": 73,
   "metadata": {},
   "outputs": [],
   "source": [
    "# joined_ans.columns"
   ]
  },
  {
   "cell_type": "markdown",
   "metadata": {},
   "source": [
    "# 3. DATA LOADING:"
   ]
  },
  {
   "cell_type": "code",
   "execution_count": 76,
   "metadata": {},
   "outputs": [],
   "source": [
    "joined_ans.write.format(\"jdbc\").options(\n",
    "    url='jdbc:postgresql://localhost/postgres',\n",
    "    driver='org.postgresql.Driver',\n",
    "    user='postgres',\n",
    "    password='postgres',\n",
    "    dbtable='stackoverflow_filtered.results'\n",
    ").save(mode='append')\n"
   ]
  },
  {
   "cell_type": "markdown",
   "metadata": {},
   "source": [
    "Py4JJavaError: An error occurred while calling o773.save.\n",
    ": org.apache.spark.SparkException: Job aborted due to stage failure: Task 0 in stage 24.0 failed 1 times, most recent failure: Lost task 0.0 in stage 24.0 (TID 20, localhost, executor driver): org.postgresql.util.PSQLException: Ran out of memory retrieving query results."
   ]
  },
  {
   "cell_type": "code",
   "execution_count": null,
   "metadata": {},
   "outputs": [],
   "source": []
  },
  {
   "cell_type": "markdown",
   "metadata": {},
   "source": [
    "## DIFFERENCE VIEW, MATERIALIZED\n",
    "\n",
    "#### VIEW\n",
    "a view does not store data physically \n",
    "\n",
    "### MATERIALIZED VIEW\n",
    "allow you to store result of a query physically"
   ]
  },
  {
   "cell_type": "code",
   "execution_count": null,
   "metadata": {},
   "outputs": [],
   "source": []
  },
  {
   "cell_type": "code",
   "execution_count": null,
   "metadata": {},
   "outputs": [],
   "source": []
  },
  {
   "cell_type": "code",
   "execution_count": null,
   "metadata": {},
   "outputs": [],
   "source": []
  }
 ],
 "metadata": {
  "kernelspec": {
   "display_name": "Python 3",
   "language": "python",
   "name": "python3"
  },
  "language_info": {
   "codemirror_mode": {
    "name": "ipython",
    "version": 3
   },
   "file_extension": ".py",
   "mimetype": "text/x-python",
   "name": "python",
   "nbconvert_exporter": "python",
   "pygments_lexer": "ipython3",
   "version": "3.7.3"
  }
 },
 "nbformat": 4,
 "nbformat_minor": 4
}
